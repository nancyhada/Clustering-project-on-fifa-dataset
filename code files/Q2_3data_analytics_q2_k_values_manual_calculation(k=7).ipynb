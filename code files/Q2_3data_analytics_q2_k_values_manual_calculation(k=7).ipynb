{
 "cells": [
  {
   "cell_type": "code",
   "execution_count": 1,
   "id": "71cc7d13",
   "metadata": {},
   "outputs": [],
   "source": [
    "import numpy as np\n",
    "import pandas as pd\n",
    "import matplotlib.pyplot as plt\n",
    "import math\n",
    "import random as rd"
   ]
  },
  {
   "cell_type": "code",
   "execution_count": 2,
   "id": "3767fa58",
   "metadata": {},
   "outputs": [],
   "source": [
    "dataset=pd.read_csv(r'F:\\MS IIITH\\course structure and syllabus\\Semester I\\Data Analytics\\Project\\reformed_datset.csv')\n"
   ]
  },
  {
   "cell_type": "code",
   "execution_count": 3,
   "id": "8251fcf1",
   "metadata": {},
   "outputs": [],
   "source": [
    "# let us begin with implementing k means for value and wage\n",
    "dataset_considered=pd.DataFrame()\n",
    "dataset_considered['Value']=dataset['Value']\n",
    "dataset_considered['Wage']=dataset['Wage']"
   ]
  },
  {
   "cell_type": "code",
   "execution_count": 4,
   "id": "4e59caeb",
   "metadata": {},
   "outputs": [],
   "source": [
    "K=7# value of specified "
   ]
  },
  {
   "cell_type": "code",
   "execution_count": 5,
   "id": "15fee778",
   "metadata": {},
   "outputs": [],
   "source": [
    "n_iter=30# It defines the total no. of itterations for convergence"
   ]
  },
  {
   "cell_type": "code",
   "execution_count": 6,
   "id": "2a34fefc",
   "metadata": {},
   "outputs": [],
   "source": [
    "m=dataset_considered.shape[0] #number of training examples\n",
    "n=dataset_considered.shape[1] #number of features. Here n=2"
   ]
  },
  {
   "cell_type": "code",
   "execution_count": 7,
   "id": "b7c71266",
   "metadata": {},
   "outputs": [],
   "source": [
    "#initialize centroids randomly from data points\n",
    "Centroids = pd.DataFrame(index=range(n),columns=range(10))"
   ]
  },
  {
   "cell_type": "code",
   "execution_count": 8,
   "id": "b184745d",
   "metadata": {},
   "outputs": [],
   "source": [
    "for i in range(K):\n",
    "    rand=rd.randint(0,m-1)\n",
    "    Centroids[i][0]=dataset_considered['Value'][rand]\n",
    "    Centroids[i][1]=dataset_considered['Wage'][rand]"
   ]
  },
  {
   "cell_type": "code",
   "execution_count": 9,
   "id": "18ad1d09",
   "metadata": {},
   "outputs": [],
   "source": [
    "output= pd.DataFrame(index=range(len(dataset_considered)),columns=range(K))"
   ]
  },
  {
   "cell_type": "code",
   "execution_count": 10,
   "id": "e4c08ea3",
   "metadata": {},
   "outputs": [],
   "source": [
    "def euclidean_distance():\n",
    "    #print(\"within elcid dist calculation \")\n",
    "    # finding Euclidean distance between each point to all the centroids\n",
    "    p=[0,0]\n",
    "    q=[0,0]\n",
    "    for i  in range(len(dataset_considered)):\n",
    "        for j in range(K):\n",
    "            #print(i)\n",
    "            #print(j)\n",
    "            #print(\"----------\")\n",
    "            p[0]=Centroids[j][0]\n",
    "            p[1]=Centroids[j][1]\n",
    "            q[0]=dataset_considered['Value'][i]\n",
    "            q[1]=dataset_considered['Wage'][i]\n",
    "            output[j][i]=math.dist(p,q)\n",
    "\n"
   ]
  },
  {
   "cell_type": "code",
   "execution_count": 11,
   "id": "439cb533",
   "metadata": {},
   "outputs": [],
   "source": [
    "# creating an empty list to store the clusters where the points need to be fit\n",
    "#cluster_seg=[None]*len(output)"
   ]
  },
  {
   "cell_type": "code",
   "execution_count": 12,
   "id": "8a28d81f",
   "metadata": {},
   "outputs": [],
   "source": [
    "def cluster_labels():\n",
    "    #print(\"within cluster label generation\")\n",
    "    # updating the cluster labels for points \n",
    "    for i in range(1,len(cluster_seg)+1):\n",
    "        valset=output.iloc[i-1].to_list()\n",
    "        cluster_seg[i-1]=valset.index(np.min(valset))\n"
   ]
  },
  {
   "cell_type": "code",
   "execution_count": 13,
   "id": "60c57b7d",
   "metadata": {},
   "outputs": [],
   "source": [
    "val_checker=pd.DataFrame(index=range(n+1),columns=range(K))"
   ]
  },
  {
   "cell_type": "code",
   "execution_count": 14,
   "id": "177d778b",
   "metadata": {},
   "outputs": [],
   "source": [
    "counter_value=np.zeros(K)"
   ]
  },
  {
   "cell_type": "code",
   "execution_count": 15,
   "id": "62337035",
   "metadata": {},
   "outputs": [],
   "source": [
    "def centroid_updation(K):\n",
    "    #print(\"within centroid updation\")\n",
    "    sum_value=np.zeros(K)\n",
    "    wage_value=np.zeros(K)\n",
    "    counter_value=np.zeros(K)\n",
    "\n",
    "\n",
    "    #updating the centroid value as per the points in the cluster\n",
    "    for i in range(len(cluster_seg)):\n",
    "        for j in range(K):  \n",
    "            if cluster_seg[i]==j :\n",
    "                sum_value[j]=sum_value[j]+dataset_considered['Value'][i]\n",
    "                wage_value[j]=wage_value[j]+dataset_considered['Wage'][i]\n",
    "                counter_value[j]=counter_value[j]+1\n",
    "\n",
    "\n",
    "    for i in range(K):  \n",
    "        for j in range(len(Centroids)):\n",
    "                if j==0:\n",
    "                    Centroids[i][j]=(sum_value[i]/counter_value[i]) #value for cluster in centroid\n",
    "                else:\n",
    "                    Centroids[i][j]=(wage_value[i]/counter_value[i])#wage for cluster 1 in centroid\n",
    "\n",
    "\n"
   ]
  },
  {
   "cell_type": "code",
   "execution_count": 16,
   "id": "b8b8506f",
   "metadata": {},
   "outputs": [],
   "source": [
    "#def k_means(K):\n",
    "#print(\"within kmeans calculation\")\n",
    "for i in range(n_iter):\n",
    "    #print(\"itteration in k means\")\n",
    "    #print(i)\n",
    "    #print(\"calling euclidean_distance\")\n",
    "    euclidean_distance()\n",
    "    #creating an empty list to store the clusters where the points need to be fit\n",
    "    cluster_seg=[None]*len(output)\n",
    "    cluster_labels()\n",
    "    centroid_updation(K)\n"
   ]
  },
  {
   "cell_type": "code",
   "execution_count": 17,
   "id": "d87cfbf5",
   "metadata": {},
   "outputs": [
    {
     "data": {
      "image/png": "[encoded data removed]",
      "text/plain": [
       "<Figure size 720x504 with 1 Axes>"
      ]
     },
     "metadata": {
      "needs_background": "light"
     },
     "output_type": "display_data"
    }
   ],
   "source": [
    "plt.figure(figsize=(10, 7))  \n",
    "c1=0\n",
    "c2=0\n",
    "c3=0\n",
    "c4=0\n",
    "c5=0\n",
    "c6=0\n",
    "c7=0\n",
    "for j in range(len(cluster_seg)):\n",
    "  if cluster_seg[j]==0:\n",
    "    if c1==0:\n",
    "      plt.scatter(dataset_considered['Value'][j], dataset_considered['Wage'][j] ,c='Red', label=\"CLUSTER 1\") \n",
    "      c1=c1+1\n",
    "    else:\n",
    "      plt.scatter(dataset_considered['Value'][j], dataset_considered['Wage'][j] ,c='Red') \n",
    "\n",
    "  if cluster_seg[j]==1:\n",
    "    if c2==0:\n",
    "      plt.scatter(dataset_considered['Value'][j], dataset_considered['Wage'][j] ,c='Green' , label=\"CLUSTER 2\") \n",
    "      c2=c2+1\n",
    "    else:\n",
    "      plt.scatter(dataset_considered['Value'][j], dataset_considered['Wage'][j] ,c='Green') \n",
    "\n",
    "  if cluster_seg[j]==2:\n",
    "    if c3==0:\n",
    "      plt.scatter(dataset_considered['Value'][j], dataset_considered['Wage'][j] ,c='Blue' , label=\"CLUSTER 3\")\n",
    "      c3=c3+1\n",
    "    else:\n",
    "      plt.scatter(dataset_considered['Value'][j], dataset_considered['Wage'][j] ,c='Blue')\n",
    "\n",
    "  if cluster_seg[j]==3:\n",
    "    if c4==0:\n",
    "      plt.scatter(dataset_considered['Value'][j], dataset_considered['Wage'][j] ,c='Yellow' , label=\"CLUSTER 4\")\n",
    "      c4=c4+1\n",
    "    else:\n",
    "      plt.scatter(dataset_considered['Value'][j], dataset_considered['Wage'][j] ,c='Yellow') \n",
    "\n",
    "  if cluster_seg[j]==4:\n",
    "    if c5==0:\n",
    "      plt.scatter(dataset_considered['Value'][j], dataset_considered['Wage'][j] ,c='Pink' , label=\"CLUSTER 5\") \n",
    "      c5=c5+1\n",
    "    else:\n",
    "      plt.scatter(dataset_considered['Value'][j], dataset_considered['Wage'][j] ,c='Pink' ) \n",
    "    \n",
    "  if cluster_seg[j]==5:\n",
    "    if c6==0:\n",
    "      plt.scatter(dataset_considered['Value'][j], dataset_considered['Wage'][j],c='Grey',  label=\"CLUSTER 6\") \n",
    "      c6=c6+1\n",
    "    else:\n",
    "       plt.scatter(dataset_considered['Value'][j], dataset_considered['Wage'][j],c='Grey') \n",
    "    \n",
    "  if cluster_seg[j]==6:\n",
    "    if c7==0:\n",
    "      plt.scatter(dataset_considered['Value'][j], dataset_considered['Wage'][j],c='Orange',  label=\"CLUSTER 7\") \n",
    "      c7=c7+1\n",
    "    else:\n",
    "       plt.scatter(dataset_considered['Value'][j], dataset_considered['Wage'][j],c='Orange') \n",
    "  \n",
    "    \n",
    "\n",
    "plt.title(\"Point distribution for a total of 7(k=7) clusters shown in a scatterplot\")  \n",
    "plt.legend()\n",
    "plt.show()"
   ]
  }
 ],
 "metadata": {
  "kernelspec": {
   "display_name": "Python 3",
   "language": "python",
   "name": "python3"
  },
  "language_info": {
   "codemirror_mode": {
    "name": "ipython",
    "version": 3
   },
   "file_extension": ".py",
   "mimetype": "text/x-python",
   "name": "python",
   "nbconvert_exporter": "python",
   "pygments_lexer": "ipython3",
   "version": "3.8.8"
  }
 },
 "nbformat": 4,
 "nbformat_minor": 5
}
