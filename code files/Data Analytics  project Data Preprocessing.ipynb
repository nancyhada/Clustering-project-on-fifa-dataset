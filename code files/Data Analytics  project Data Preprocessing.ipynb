{
 "cells": [
  {
   "cell_type": "code",
   "execution_count": 2,
   "id": "3c4990f3",
   "metadata": {},
   "outputs": [],
   "source": [
    "import numpy as np\n",
    "import pandas as pd\n",
    "import matplotlib.pyplot as plt\n",
    "import math"
   ]
  },
  {
   "cell_type": "code",
   "execution_count": 3,
   "id": "7eafc4ca",
   "metadata": {},
   "outputs": [],
   "source": [
    "# reading the dataset\n",
    "football_data=pd.read_csv(r'F:\\MS IIITH\\course structure and syllabus\\Semester I\\Data Analytics\\Project\\football_data.csv')\n",
    "football_data_original_set=football_data\n"
   ]
  },
  {
   "cell_type": "markdown",
   "id": "72ecca76",
   "metadata": {},
   "source": [
    "Exploring the dimentions of the data"
   ]
  },
  {
   "cell_type": "code",
   "execution_count": 4,
   "id": "f85c19dd",
   "metadata": {},
   "outputs": [
    {
     "data": {
      "text/plain": [
       "(18207, 89)"
      ]
     },
     "execution_count": 4,
     "metadata": {},
     "output_type": "execute_result"
    }
   ],
   "source": [
    "football_data.shape"
   ]
  },
  {
   "cell_type": "code",
   "execution_count": 5,
   "id": "7b957211",
   "metadata": {},
   "outputs": [
    {
     "data": {
      "text/plain": [
       "Index(['Unnamed: 0', 'ID', 'Name', 'Age', 'Photo', 'Nationality', 'Flag',\n",
       "       'Overall', 'Potential', 'Club', 'Club Logo', 'Value', 'Wage', 'Special',\n",
       "       'Preferred Foot', 'International Reputation', 'Weak Foot',\n",
       "       'Skill Moves', 'Work Rate', 'Body Type', 'Real Face', 'Position',\n",
       "       'Jersey Number', 'Joined', 'Loaned From', 'Contract Valid Until',\n",
       "       'Height', 'Weight', 'LS', 'ST', 'RS', 'LW', 'LF', 'CF', 'RF', 'RW',\n",
       "       'LAM', 'CAM', 'RAM', 'LM', 'LCM', 'CM', 'RCM', 'RM', 'LWB', 'LDM',\n",
       "       'CDM', 'RDM', 'RWB', 'LB', 'LCB', 'CB', 'RCB', 'RB', 'Crossing',\n",
       "       'Finishing', 'HeadingAccuracy', 'ShortPassing', 'Volleys', 'Dribbling',\n",
       "       'Curve', 'FKAccuracy', 'LongPassing', 'BallControl', 'Acceleration',\n",
       "       'SprintSpeed', 'Agility', 'Reactions', 'Balance', 'ShotPower',\n",
       "       'Jumping', 'Stamina', 'Strength', 'LongShots', 'Aggression',\n",
       "       'Interceptions', 'Positioning', 'Vision', 'Penalties', 'Composure',\n",
       "       'Marking', 'StandingTackle', 'SlidingTackle', 'GKDiving', 'GKHandling',\n",
       "       'GKKicking', 'GKPositioning', 'GKReflexes', 'Release Clause'],\n",
       "      dtype='object')"
      ]
     },
     "execution_count": 5,
     "metadata": {},
     "output_type": "execute_result"
    }
   ],
   "source": [
    "football_data.columns"
   ]
  },
  {
   "cell_type": "code",
   "execution_count": 6,
   "id": "af197036",
   "metadata": {},
   "outputs": [],
   "source": [
    "#Data preprocessing \n",
    "missing_value_matrix=football_data.isna()"
   ]
  },
  {
   "cell_type": "code",
   "execution_count": 7,
   "id": "2d933229",
   "metadata": {},
   "outputs": [
    {
     "data": {
      "text/html": [
       "<div>\n",
       "<style scoped>\n",
       "    .dataframe tbody tr th:only-of-type {\n",
       "        vertical-align: middle;\n",
       "    }\n",
       "\n",
       "    .dataframe tbody tr th {\n",
       "        vertical-align: top;\n",
       "    }\n",
       "\n",
       "    .dataframe thead th {\n",
       "        text-align: right;\n",
       "    }\n",
       "</style>\n",
       "<table border=\"1\" class=\"dataframe\">\n",
       "  <thead>\n",
       "    <tr style=\"text-align: right;\">\n",
       "      <th></th>\n",
       "      <th>Unnamed: 0</th>\n",
       "      <th>ID</th>\n",
       "      <th>Name</th>\n",
       "      <th>Age</th>\n",
       "      <th>Photo</th>\n",
       "      <th>Nationality</th>\n",
       "      <th>Flag</th>\n",
       "      <th>Overall</th>\n",
       "      <th>Potential</th>\n",
       "      <th>Club</th>\n",
       "      <th>...</th>\n",
       "      <th>Composure</th>\n",
       "      <th>Marking</th>\n",
       "      <th>StandingTackle</th>\n",
       "      <th>SlidingTackle</th>\n",
       "      <th>GKDiving</th>\n",
       "      <th>GKHandling</th>\n",
       "      <th>GKKicking</th>\n",
       "      <th>GKPositioning</th>\n",
       "      <th>GKReflexes</th>\n",
       "      <th>Release Clause</th>\n",
       "    </tr>\n",
       "  </thead>\n",
       "  <tbody>\n",
       "    <tr>\n",
       "      <th>0</th>\n",
       "      <td>False</td>\n",
       "      <td>False</td>\n",
       "      <td>False</td>\n",
       "      <td>False</td>\n",
       "      <td>False</td>\n",
       "      <td>False</td>\n",
       "      <td>False</td>\n",
       "      <td>False</td>\n",
       "      <td>False</td>\n",
       "      <td>False</td>\n",
       "      <td>...</td>\n",
       "      <td>False</td>\n",
       "      <td>False</td>\n",
       "      <td>False</td>\n",
       "      <td>False</td>\n",
       "      <td>False</td>\n",
       "      <td>False</td>\n",
       "      <td>False</td>\n",
       "      <td>False</td>\n",
       "      <td>False</td>\n",
       "      <td>False</td>\n",
       "    </tr>\n",
       "    <tr>\n",
       "      <th>1</th>\n",
       "      <td>False</td>\n",
       "      <td>False</td>\n",
       "      <td>False</td>\n",
       "      <td>False</td>\n",
       "      <td>False</td>\n",
       "      <td>False</td>\n",
       "      <td>False</td>\n",
       "      <td>False</td>\n",
       "      <td>False</td>\n",
       "      <td>False</td>\n",
       "      <td>...</td>\n",
       "      <td>False</td>\n",
       "      <td>False</td>\n",
       "      <td>False</td>\n",
       "      <td>False</td>\n",
       "      <td>False</td>\n",
       "      <td>False</td>\n",
       "      <td>False</td>\n",
       "      <td>False</td>\n",
       "      <td>False</td>\n",
       "      <td>False</td>\n",
       "    </tr>\n",
       "    <tr>\n",
       "      <th>2</th>\n",
       "      <td>False</td>\n",
       "      <td>False</td>\n",
       "      <td>False</td>\n",
       "      <td>False</td>\n",
       "      <td>False</td>\n",
       "      <td>False</td>\n",
       "      <td>False</td>\n",
       "      <td>False</td>\n",
       "      <td>False</td>\n",
       "      <td>False</td>\n",
       "      <td>...</td>\n",
       "      <td>False</td>\n",
       "      <td>False</td>\n",
       "      <td>False</td>\n",
       "      <td>False</td>\n",
       "      <td>False</td>\n",
       "      <td>False</td>\n",
       "      <td>False</td>\n",
       "      <td>False</td>\n",
       "      <td>False</td>\n",
       "      <td>False</td>\n",
       "    </tr>\n",
       "    <tr>\n",
       "      <th>3</th>\n",
       "      <td>False</td>\n",
       "      <td>False</td>\n",
       "      <td>False</td>\n",
       "      <td>False</td>\n",
       "      <td>False</td>\n",
       "      <td>False</td>\n",
       "      <td>False</td>\n",
       "      <td>False</td>\n",
       "      <td>False</td>\n",
       "      <td>False</td>\n",
       "      <td>...</td>\n",
       "      <td>False</td>\n",
       "      <td>False</td>\n",
       "      <td>False</td>\n",
       "      <td>False</td>\n",
       "      <td>False</td>\n",
       "      <td>False</td>\n",
       "      <td>False</td>\n",
       "      <td>False</td>\n",
       "      <td>False</td>\n",
       "      <td>False</td>\n",
       "    </tr>\n",
       "    <tr>\n",
       "      <th>4</th>\n",
       "      <td>False</td>\n",
       "      <td>False</td>\n",
       "      <td>False</td>\n",
       "      <td>False</td>\n",
       "      <td>False</td>\n",
       "      <td>False</td>\n",
       "      <td>False</td>\n",
       "      <td>False</td>\n",
       "      <td>False</td>\n",
       "      <td>False</td>\n",
       "      <td>...</td>\n",
       "      <td>False</td>\n",
       "      <td>False</td>\n",
       "      <td>False</td>\n",
       "      <td>False</td>\n",
       "      <td>False</td>\n",
       "      <td>False</td>\n",
       "      <td>False</td>\n",
       "      <td>False</td>\n",
       "      <td>False</td>\n",
       "      <td>False</td>\n",
       "    </tr>\n",
       "    <tr>\n",
       "      <th>...</th>\n",
       "      <td>...</td>\n",
       "      <td>...</td>\n",
       "      <td>...</td>\n",
       "      <td>...</td>\n",
       "      <td>...</td>\n",
       "      <td>...</td>\n",
       "      <td>...</td>\n",
       "      <td>...</td>\n",
       "      <td>...</td>\n",
       "      <td>...</td>\n",
       "      <td>...</td>\n",
       "      <td>...</td>\n",
       "      <td>...</td>\n",
       "      <td>...</td>\n",
       "      <td>...</td>\n",
       "      <td>...</td>\n",
       "      <td>...</td>\n",
       "      <td>...</td>\n",
       "      <td>...</td>\n",
       "      <td>...</td>\n",
       "      <td>...</td>\n",
       "    </tr>\n",
       "    <tr>\n",
       "      <th>18202</th>\n",
       "      <td>False</td>\n",
       "      <td>False</td>\n",
       "      <td>False</td>\n",
       "      <td>False</td>\n",
       "      <td>False</td>\n",
       "      <td>False</td>\n",
       "      <td>False</td>\n",
       "      <td>False</td>\n",
       "      <td>False</td>\n",
       "      <td>False</td>\n",
       "      <td>...</td>\n",
       "      <td>False</td>\n",
       "      <td>False</td>\n",
       "      <td>False</td>\n",
       "      <td>False</td>\n",
       "      <td>False</td>\n",
       "      <td>False</td>\n",
       "      <td>False</td>\n",
       "      <td>False</td>\n",
       "      <td>False</td>\n",
       "      <td>False</td>\n",
       "    </tr>\n",
       "    <tr>\n",
       "      <th>18203</th>\n",
       "      <td>False</td>\n",
       "      <td>False</td>\n",
       "      <td>False</td>\n",
       "      <td>False</td>\n",
       "      <td>False</td>\n",
       "      <td>False</td>\n",
       "      <td>False</td>\n",
       "      <td>False</td>\n",
       "      <td>False</td>\n",
       "      <td>False</td>\n",
       "      <td>...</td>\n",
       "      <td>False</td>\n",
       "      <td>False</td>\n",
       "      <td>False</td>\n",
       "      <td>False</td>\n",
       "      <td>False</td>\n",
       "      <td>False</td>\n",
       "      <td>False</td>\n",
       "      <td>False</td>\n",
       "      <td>False</td>\n",
       "      <td>False</td>\n",
       "    </tr>\n",
       "    <tr>\n",
       "      <th>18204</th>\n",
       "      <td>False</td>\n",
       "      <td>False</td>\n",
       "      <td>False</td>\n",
       "      <td>False</td>\n",
       "      <td>False</td>\n",
       "      <td>False</td>\n",
       "      <td>False</td>\n",
       "      <td>False</td>\n",
       "      <td>False</td>\n",
       "      <td>False</td>\n",
       "      <td>...</td>\n",
       "      <td>False</td>\n",
       "      <td>False</td>\n",
       "      <td>False</td>\n",
       "      <td>False</td>\n",
       "      <td>False</td>\n",
       "      <td>False</td>\n",
       "      <td>False</td>\n",
       "      <td>False</td>\n",
       "      <td>False</td>\n",
       "      <td>False</td>\n",
       "    </tr>\n",
       "    <tr>\n",
       "      <th>18205</th>\n",
       "      <td>False</td>\n",
       "      <td>False</td>\n",
       "      <td>False</td>\n",
       "      <td>False</td>\n",
       "      <td>False</td>\n",
       "      <td>False</td>\n",
       "      <td>False</td>\n",
       "      <td>False</td>\n",
       "      <td>False</td>\n",
       "      <td>False</td>\n",
       "      <td>...</td>\n",
       "      <td>False</td>\n",
       "      <td>False</td>\n",
       "      <td>False</td>\n",
       "      <td>False</td>\n",
       "      <td>False</td>\n",
       "      <td>False</td>\n",
       "      <td>False</td>\n",
       "      <td>False</td>\n",
       "      <td>False</td>\n",
       "      <td>False</td>\n",
       "    </tr>\n",
       "    <tr>\n",
       "      <th>18206</th>\n",
       "      <td>False</td>\n",
       "      <td>False</td>\n",
       "      <td>False</td>\n",
       "      <td>False</td>\n",
       "      <td>False</td>\n",
       "      <td>False</td>\n",
       "      <td>False</td>\n",
       "      <td>False</td>\n",
       "      <td>False</td>\n",
       "      <td>False</td>\n",
       "      <td>...</td>\n",
       "      <td>False</td>\n",
       "      <td>False</td>\n",
       "      <td>False</td>\n",
       "      <td>False</td>\n",
       "      <td>False</td>\n",
       "      <td>False</td>\n",
       "      <td>False</td>\n",
       "      <td>False</td>\n",
       "      <td>False</td>\n",
       "      <td>False</td>\n",
       "    </tr>\n",
       "  </tbody>\n",
       "</table>\n",
       "<p>18207 rows × 89 columns</p>\n",
       "</div>"
      ],
      "text/plain": [
       "       Unnamed: 0     ID   Name    Age  Photo  Nationality   Flag  Overall  \\\n",
       "0           False  False  False  False  False        False  False    False   \n",
       "1           False  False  False  False  False        False  False    False   \n",
       "2           False  False  False  False  False        False  False    False   \n",
       "3           False  False  False  False  False        False  False    False   \n",
       "4           False  False  False  False  False        False  False    False   \n",
       "...           ...    ...    ...    ...    ...          ...    ...      ...   \n",
       "18202       False  False  False  False  False        False  False    False   \n",
       "18203       False  False  False  False  False        False  False    False   \n",
       "18204       False  False  False  False  False        False  False    False   \n",
       "18205       False  False  False  False  False        False  False    False   \n",
       "18206       False  False  False  False  False        False  False    False   \n",
       "\n",
       "       Potential   Club  ...  Composure  Marking  StandingTackle  \\\n",
       "0          False  False  ...      False    False           False   \n",
       "1          False  False  ...      False    False           False   \n",
       "2          False  False  ...      False    False           False   \n",
       "3          False  False  ...      False    False           False   \n",
       "4          False  False  ...      False    False           False   \n",
       "...          ...    ...  ...        ...      ...             ...   \n",
       "18202      False  False  ...      False    False           False   \n",
       "18203      False  False  ...      False    False           False   \n",
       "18204      False  False  ...      False    False           False   \n",
       "18205      False  False  ...      False    False           False   \n",
       "18206      False  False  ...      False    False           False   \n",
       "\n",
       "       SlidingTackle  GKDiving  GKHandling  GKKicking  GKPositioning  \\\n",
       "0              False     False       False      False          False   \n",
       "1              False     False       False      False          False   \n",
       "2              False     False       False      False          False   \n",
       "3              False     False       False      False          False   \n",
       "4              False     False       False      False          False   \n",
       "...              ...       ...         ...        ...            ...   \n",
       "18202          False     False       False      False          False   \n",
       "18203          False     False       False      False          False   \n",
       "18204          False     False       False      False          False   \n",
       "18205          False     False       False      False          False   \n",
       "18206          False     False       False      False          False   \n",
       "\n",
       "       GKReflexes  Release Clause  \n",
       "0           False           False  \n",
       "1           False           False  \n",
       "2           False           False  \n",
       "3           False           False  \n",
       "4           False           False  \n",
       "...           ...             ...  \n",
       "18202       False           False  \n",
       "18203       False           False  \n",
       "18204       False           False  \n",
       "18205       False           False  \n",
       "18206       False           False  \n",
       "\n",
       "[18207 rows x 89 columns]"
      ]
     },
     "execution_count": 7,
     "metadata": {},
     "output_type": "execute_result"
    }
   ],
   "source": [
    "missing_value_matrix # this matix keeps a log of values that are missing in the given dataset"
   ]
  },
  {
   "cell_type": "code",
   "execution_count": 8,
   "id": "aafe0e6b",
   "metadata": {},
   "outputs": [],
   "source": [
    "missing_height_index=missing_value_matrix[missing_value_matrix['Height']==True].index.tolist()"
   ]
  },
  {
   "cell_type": "code",
   "execution_count": 9,
   "id": "963a95cc",
   "metadata": {},
   "outputs": [
    {
     "data": {
      "text/plain": [
       "48"
      ]
     },
     "execution_count": 9,
     "metadata": {},
     "output_type": "execute_result"
    }
   ],
   "source": [
    "len(missing_height_index)"
   ]
  },
  {
   "cell_type": "markdown",
   "id": "5b4e8602",
   "metadata": {},
   "source": [
    "The values that i feel contribute to heigt of a player can be it's nationality"
   ]
  },
  {
   "cell_type": "code",
   "execution_count": 10,
   "id": "9fa43904",
   "metadata": {},
   "outputs": [
    {
     "data": {
      "text/plain": [
       "Int64Index([], dtype='int64')"
      ]
     },
     "execution_count": 10,
     "metadata": {},
     "output_type": "execute_result"
    }
   ],
   "source": [
    "missing_value_matrix[missing_value_matrix['Nationality']==True].index\n",
    "# since the nationality is present for all the players so let us try to update tyhe values of the height based upon the avg.\n",
    "#height for that given nationality"
   ]
  },
  {
   "cell_type": "code",
   "execution_count": 11,
   "id": "ae153a8a",
   "metadata": {},
   "outputs": [],
   "source": [
    "unique_nationalities=football_data['Nationality'].unique()"
   ]
  },
  {
   "cell_type": "code",
   "execution_count": 12,
   "id": "7f59b150",
   "metadata": {},
   "outputs": [
    {
     "data": {
      "text/plain": [
       "18207"
      ]
     },
     "execution_count": 12,
     "metadata": {},
     "output_type": "execute_result"
    }
   ],
   "source": [
    "len(football_data)"
   ]
  },
  {
   "cell_type": "code",
   "execution_count": 13,
   "id": "bbfe2424",
   "metadata": {},
   "outputs": [],
   "source": [
    "nationality_height_averge_values=pd.DataFrame()"
   ]
  },
  {
   "cell_type": "code",
   "execution_count": 14,
   "id": "25303fcb",
   "metadata": {},
   "outputs": [],
   "source": [
    "tempstr_int_cm=int(football_data['Height'][0][0])*30.48 + float(float(football_data['Height'][0][2])/12.0)*30.48"
   ]
  },
  {
   "cell_type": "code",
   "execution_count": 15,
   "id": "358ce3a4",
   "metadata": {},
   "outputs": [
    {
     "data": {
      "text/plain": [
       "170.18"
      ]
     },
     "execution_count": 15,
     "metadata": {},
     "output_type": "execute_result"
    }
   ],
   "source": [
    "tempstr_int_cm"
   ]
  },
  {
   "cell_type": "code",
   "execution_count": 19,
   "id": "70bf377e",
   "metadata": {},
   "outputs": [
    {
     "data": {
      "text/plain": [
       "17.78"
      ]
     },
     "execution_count": 19,
     "metadata": {},
     "output_type": "execute_result"
    }
   ],
   "source": [
    "float(float(football_data['Height'][0][2])/12.0)*30.48"
   ]
  },
  {
   "cell_type": "code",
   "execution_count": 20,
   "id": "8e6656ce",
   "metadata": {},
   "outputs": [
    {
     "data": {
      "text/plain": [
       "170.18"
      ]
     },
     "execution_count": 20,
     "metadata": {},
     "output_type": "execute_result"
    }
   ],
   "source": [
    "tempstr_int_cm"
   ]
  },
  {
   "cell_type": "code",
   "execution_count": 21,
   "id": "cf73c5b2",
   "metadata": {},
   "outputs": [
    {
     "name": "stderr",
     "output_type": "stream",
     "text": [
      "<ipython-input-21-fc7e96f0a476>:5: SettingWithCopyWarning: \n",
      "A value is trying to be set on a copy of a slice from a DataFrame\n",
      "\n",
      "See the caveats in the documentation: https://pandas.pydata.org/pandas-docs/stable/user_guide/indexing.html#returning-a-view-versus-a-copy\n",
      "  football_data['Height'][i]=tempstr_int_cm\n"
     ]
    }
   ],
   "source": [
    "\n",
    "#converting the height to centimeters from a string formatted feet and inches\n",
    "for i in range(len(football_data['Height'])):\n",
    "    if missing_value_matrix['Height'][i]==False:\n",
    "        tempstr_int_cm=int(football_data['Height'][i][0])*30.48 + float(float(football_data['Height'][i][2])/12.0)*30.48\n",
    "        football_data['Height'][i]=tempstr_int_cm\n",
    "        \n",
    "    "
   ]
  },
  {
   "cell_type": "code",
   "execution_count": 22,
   "id": "04d62ff1",
   "metadata": {},
   "outputs": [],
   "source": [
    "# getting the unique nationalitites \n",
    "nationality_height_averge_values['unique_nationalities']=unique_nationalities\n",
    "nationality_height_averge_values['average_height']=np.zeros(len(unique_nationalities))"
   ]
  },
  {
   "cell_type": "code",
   "execution_count": 23,
   "id": "b5706521",
   "metadata": {},
   "outputs": [
    {
     "name": "stderr",
     "output_type": "stream",
     "text": [
      "<ipython-input-23-88612296aff8>:9: SettingWithCopyWarning: \n",
      "A value is trying to be set on a copy of a slice from a DataFrame\n",
      "\n",
      "See the caveats in the documentation: https://pandas.pydata.org/pandas-docs/stable/user_guide/indexing.html#returning-a-view-versus-a-copy\n",
      "  nationality_height_averge_values['average_height'][i]=(sum/counter)\n"
     ]
    }
   ],
   "source": [
    "# getting the average height as per nationality\n",
    "sum=0\n",
    "counter=0\n",
    "for i in range(len(unique_nationalities)):\n",
    "    for j in range(len(football_data)):\n",
    "        if football_data['Nationality'][j]==nationality_height_averge_values['unique_nationalities'][i] and missing_value_matrix['Height'][j]  == False :\n",
    "            sum=sum+football_data['Height'][j]\n",
    "            counter=counter+1\n",
    "    nationality_height_averge_values['average_height'][i]=(sum/counter)\n",
    "    sum=0\n",
    "    counter=0\n",
    "    \n",
    "    "
   ]
  },
  {
   "cell_type": "code",
   "execution_count": 28,
   "id": "0850c445",
   "metadata": {},
   "outputs": [
    {
     "name": "stderr",
     "output_type": "stream",
     "text": [
      "<ipython-input-28-5d655eb6d4f3>:6: SettingWithCopyWarning: \n",
      "A value is trying to be set on a copy of a slice from a DataFrame\n",
      "\n",
      "See the caveats in the documentation: https://pandas.pydata.org/pandas-docs/stable/user_guide/indexing.html#returning-a-view-versus-a-copy\n",
      "  football_data['Height'][i]=nationality_height_averge_values['average_height'][j]\n"
     ]
    }
   ],
   "source": [
    "# updating the missing height values as per the avg height of that nationality\n",
    "for i in range(len(football_data['Height'])):\n",
    "    if missing_value_matrix['Height'][i]==True:\n",
    "        for j in range(len(unique_nationalities)):\n",
    "            if football_data['Nationality'][i]==nationality_height_averge_values['unique_nationalities'][j] :\n",
    "                football_data['Height'][i]=nationality_height_averge_values['average_height'][j]\n",
    "                missing_value_matrix['Height'][i]=False\n",
    "                break\n",
    "            \n",
    "                \n",
    "                \n",
    "\n"
   ]
  },
  {
   "cell_type": "code",
   "execution_count": 38,
   "id": "7d28f7cd",
   "metadata": {},
   "outputs": [
    {
     "data": {
      "text/html": [
       "<div>\n",
       "<style scoped>\n",
       "    .dataframe tbody tr th:only-of-type {\n",
       "        vertical-align: middle;\n",
       "    }\n",
       "\n",
       "    .dataframe tbody tr th {\n",
       "        vertical-align: top;\n",
       "    }\n",
       "\n",
       "    .dataframe thead th {\n",
       "        text-align: right;\n",
       "    }\n",
       "</style>\n",
       "<table border=\"1\" class=\"dataframe\">\n",
       "  <thead>\n",
       "    <tr style=\"text-align: right;\">\n",
       "      <th></th>\n",
       "      <th>unique_nationalities</th>\n",
       "      <th>average_height</th>\n",
       "    </tr>\n",
       "  </thead>\n",
       "  <tbody>\n",
       "    <tr>\n",
       "      <th>0</th>\n",
       "      <td>Argentina</td>\n",
       "      <td>172.559893</td>\n",
       "    </tr>\n",
       "    <tr>\n",
       "      <th>1</th>\n",
       "      <td>Portugal</td>\n",
       "      <td>174.131988</td>\n",
       "    </tr>\n",
       "    <tr>\n",
       "      <th>2</th>\n",
       "      <td>Brazil</td>\n",
       "      <td>174.668873</td>\n",
       "    </tr>\n",
       "    <tr>\n",
       "      <th>3</th>\n",
       "      <td>Spain</td>\n",
       "      <td>173.972213</td>\n",
       "    </tr>\n",
       "    <tr>\n",
       "      <th>4</th>\n",
       "      <td>Belgium</td>\n",
       "      <td>176.780077</td>\n",
       "    </tr>\n",
       "    <tr>\n",
       "      <th>...</th>\n",
       "      <td>...</td>\n",
       "      <td>...</td>\n",
       "    </tr>\n",
       "    <tr>\n",
       "      <th>159</th>\n",
       "      <td>Malta</td>\n",
       "      <td>167.640000</td>\n",
       "    </tr>\n",
       "    <tr>\n",
       "      <th>160</th>\n",
       "      <td>Belize</td>\n",
       "      <td>154.940000</td>\n",
       "    </tr>\n",
       "    <tr>\n",
       "      <th>161</th>\n",
       "      <td>South Sudan</td>\n",
       "      <td>200.660000</td>\n",
       "    </tr>\n",
       "    <tr>\n",
       "      <th>162</th>\n",
       "      <td>Indonesia</td>\n",
       "      <td>165.100000</td>\n",
       "    </tr>\n",
       "    <tr>\n",
       "      <th>163</th>\n",
       "      <td>Botswana</td>\n",
       "      <td>175.260000</td>\n",
       "    </tr>\n",
       "  </tbody>\n",
       "</table>\n",
       "<p>164 rows × 2 columns</p>\n",
       "</div>"
      ],
      "text/plain": [
       "    unique_nationalities  average_height\n",
       "0              Argentina      172.559893\n",
       "1               Portugal      174.131988\n",
       "2                 Brazil      174.668873\n",
       "3                  Spain      173.972213\n",
       "4                Belgium      176.780077\n",
       "..                   ...             ...\n",
       "159                Malta      167.640000\n",
       "160               Belize      154.940000\n",
       "161          South Sudan      200.660000\n",
       "162            Indonesia      165.100000\n",
       "163             Botswana      175.260000\n",
       "\n",
       "[164 rows x 2 columns]"
      ]
     },
     "execution_count": 38,
     "metadata": {},
     "output_type": "execute_result"
    }
   ],
   "source": [
    "\n",
    "nationality_height_averge_values # looking at the average height as per nationality"
   ]
  },
  {
   "cell_type": "code",
   "execution_count": 24,
   "id": "5160347f",
   "metadata": {},
   "outputs": [],
   "source": [
    "# creating categorical subdivision of the data for easy pre-processing \n",
    "personal_details=football_data[['ID','Name','Age','Photo','Nationality','Height','Weight']]\n",
    "position_details=[['LS', 'ST', 'RS', 'LW', 'LF', 'CF', 'RF', 'RW',\n",
    "       'LAM', 'CAM', 'RAM', 'LM', 'LCM', 'CM', 'RCM', 'RM', 'LWB', 'LDM',\n",
    "       'CDM', 'RDM', 'RWB', 'LB', 'LCB', 'CB', 'RCB', 'RB']]\n",
    "skills=football_data[['Crossing',\n",
    "       'Finishing', 'HeadingAccuracy', 'ShortPassing', 'Volleys', 'Dribbling',\n",
    "       'Curve', 'FKAccuracy', 'LongPassing', 'BallControl', 'Acceleration',\n",
    "       'SprintSpeed', 'Agility', 'Reactions', 'Balance', 'ShotPower',\n",
    "       'Jumping', 'Stamina', 'Strength', 'LongShots', 'Aggression',\n",
    "       'Interceptions', 'Positioning', 'Vision', 'Penalties', 'Composure',\n",
    "       'Marking', 'StandingTackle', 'SlidingTackle', 'GKDiving', 'GKHandling',\n",
    "       'GKKicking', 'GKPositioning', 'GKReflexes']]\n",
    "club_details=[['Club', 'Club Logo', 'Value', 'Wage', 'Special',\n",
    "       'Preferred Foot', 'International Reputation', 'Weak Foot',\n",
    "       'Skill Moves', 'Work Rate', 'Body Type', 'Real Face']]"
   ]
  },
  {
   "cell_type": "code",
   "execution_count": 36,
   "id": "6c0c0d3d",
   "metadata": {},
   "outputs": [
    {
     "name": "stderr",
     "output_type": "stream",
     "text": [
      "<ipython-input-36-e73ce568419a>:5: SettingWithCopyWarning: \n",
      "A value is trying to be set on a copy of a slice from a DataFrame\n",
      "\n",
      "See the caveats in the documentation: https://pandas.pydata.org/pandas-docs/stable/user_guide/indexing.html#returning-a-view-versus-a-copy\n",
      "  football_data[position_details[0][i]][j]=int(football_data[position_details[0][i]][j].split(\"+\")[0])\n"
     ]
    }
   ],
   "source": [
    "# converting the value in the columns of position_details from string to integer , discarding anythhing after the + sign\n",
    "for i in range(len(position_details[0])):\n",
    "    for j in range(len(football_data)):\n",
    "        if missing_value_matrix[position_details[0][i]][j]==False:\n",
    "            football_data[position_details[0][i]][j]=int(football_data[position_details[0][i]][j].split(\"+\")[0])\n",
    "    \n",
    "    "
   ]
  },
  {
   "cell_type": "code",
   "execution_count": 42,
   "id": "f0e61361",
   "metadata": {},
   "outputs": [
    {
     "name": "stderr",
     "output_type": "stream",
     "text": [
      "<ipython-input-42-43c68a9ea818>:13: SettingWithCopyWarning: \n",
      "A value is trying to be set on a copy of a slice from a DataFrame\n",
      "\n",
      "See the caveats in the documentation: https://pandas.pydata.org/pandas-docs/stable/user_guide/indexing.html#returning-a-view-versus-a-copy\n",
      "  football_data[position_details[0][i]][missing_positions[k]]=avg\n",
      "<ipython-input-42-43c68a9ea818>:13: SettingWithCopyWarning: \n",
      "A value is trying to be set on a copy of a slice from a DataFrame\n",
      "\n",
      "See the caveats in the documentation: https://pandas.pydata.org/pandas-docs/stable/user_guide/indexing.html#returning-a-view-versus-a-copy\n",
      "  football_data[position_details[0][i]][missing_positions[k]]=avg\n",
      "<ipython-input-42-43c68a9ea818>:13: SettingWithCopyWarning: \n",
      "A value is trying to be set on a copy of a slice from a DataFrame\n",
      "\n",
      "See the caveats in the documentation: https://pandas.pydata.org/pandas-docs/stable/user_guide/indexing.html#returning-a-view-versus-a-copy\n",
      "  football_data[position_details[0][i]][missing_positions[k]]=avg\n",
      "<ipython-input-42-43c68a9ea818>:13: SettingWithCopyWarning: \n",
      "A value is trying to be set on a copy of a slice from a DataFrame\n",
      "\n",
      "See the caveats in the documentation: https://pandas.pydata.org/pandas-docs/stable/user_guide/indexing.html#returning-a-view-versus-a-copy\n",
      "  football_data[position_details[0][i]][missing_positions[k]]=avg\n",
      "<ipython-input-42-43c68a9ea818>:13: SettingWithCopyWarning: \n",
      "A value is trying to be set on a copy of a slice from a DataFrame\n",
      "\n",
      "See the caveats in the documentation: https://pandas.pydata.org/pandas-docs/stable/user_guide/indexing.html#returning-a-view-versus-a-copy\n",
      "  football_data[position_details[0][i]][missing_positions[k]]=avg\n",
      "<ipython-input-42-43c68a9ea818>:13: SettingWithCopyWarning: \n",
      "A value is trying to be set on a copy of a slice from a DataFrame\n",
      "\n",
      "See the caveats in the documentation: https://pandas.pydata.org/pandas-docs/stable/user_guide/indexing.html#returning-a-view-versus-a-copy\n",
      "  football_data[position_details[0][i]][missing_positions[k]]=avg\n",
      "<ipython-input-42-43c68a9ea818>:13: SettingWithCopyWarning: \n",
      "A value is trying to be set on a copy of a slice from a DataFrame\n",
      "\n",
      "See the caveats in the documentation: https://pandas.pydata.org/pandas-docs/stable/user_guide/indexing.html#returning-a-view-versus-a-copy\n",
      "  football_data[position_details[0][i]][missing_positions[k]]=avg\n",
      "<ipython-input-42-43c68a9ea818>:13: SettingWithCopyWarning: \n",
      "A value is trying to be set on a copy of a slice from a DataFrame\n",
      "\n",
      "See the caveats in the documentation: https://pandas.pydata.org/pandas-docs/stable/user_guide/indexing.html#returning-a-view-versus-a-copy\n",
      "  football_data[position_details[0][i]][missing_positions[k]]=avg\n",
      "<ipython-input-42-43c68a9ea818>:13: SettingWithCopyWarning: \n",
      "A value is trying to be set on a copy of a slice from a DataFrame\n",
      "\n",
      "See the caveats in the documentation: https://pandas.pydata.org/pandas-docs/stable/user_guide/indexing.html#returning-a-view-versus-a-copy\n",
      "  football_data[position_details[0][i]][missing_positions[k]]=avg\n",
      "<ipython-input-42-43c68a9ea818>:13: SettingWithCopyWarning: \n",
      "A value is trying to be set on a copy of a slice from a DataFrame\n",
      "\n",
      "See the caveats in the documentation: https://pandas.pydata.org/pandas-docs/stable/user_guide/indexing.html#returning-a-view-versus-a-copy\n",
      "  football_data[position_details[0][i]][missing_positions[k]]=avg\n",
      "<ipython-input-42-43c68a9ea818>:13: SettingWithCopyWarning: \n",
      "A value is trying to be set on a copy of a slice from a DataFrame\n",
      "\n",
      "See the caveats in the documentation: https://pandas.pydata.org/pandas-docs/stable/user_guide/indexing.html#returning-a-view-versus-a-copy\n",
      "  football_data[position_details[0][i]][missing_positions[k]]=avg\n",
      "<ipython-input-42-43c68a9ea818>:13: SettingWithCopyWarning: \n",
      "A value is trying to be set on a copy of a slice from a DataFrame\n",
      "\n",
      "See the caveats in the documentation: https://pandas.pydata.org/pandas-docs/stable/user_guide/indexing.html#returning-a-view-versus-a-copy\n",
      "  football_data[position_details[0][i]][missing_positions[k]]=avg\n",
      "<ipython-input-42-43c68a9ea818>:13: SettingWithCopyWarning: \n",
      "A value is trying to be set on a copy of a slice from a DataFrame\n",
      "\n",
      "See the caveats in the documentation: https://pandas.pydata.org/pandas-docs/stable/user_guide/indexing.html#returning-a-view-versus-a-copy\n",
      "  football_data[position_details[0][i]][missing_positions[k]]=avg\n",
      "<ipython-input-42-43c68a9ea818>:13: SettingWithCopyWarning: \n",
      "A value is trying to be set on a copy of a slice from a DataFrame\n",
      "\n",
      "See the caveats in the documentation: https://pandas.pydata.org/pandas-docs/stable/user_guide/indexing.html#returning-a-view-versus-a-copy\n",
      "  football_data[position_details[0][i]][missing_positions[k]]=avg\n",
      "<ipython-input-42-43c68a9ea818>:13: SettingWithCopyWarning: \n",
      "A value is trying to be set on a copy of a slice from a DataFrame\n",
      "\n",
      "See the caveats in the documentation: https://pandas.pydata.org/pandas-docs/stable/user_guide/indexing.html#returning-a-view-versus-a-copy\n",
      "  football_data[position_details[0][i]][missing_positions[k]]=avg\n",
      "<ipython-input-42-43c68a9ea818>:13: SettingWithCopyWarning: \n",
      "A value is trying to be set on a copy of a slice from a DataFrame\n",
      "\n",
      "See the caveats in the documentation: https://pandas.pydata.org/pandas-docs/stable/user_guide/indexing.html#returning-a-view-versus-a-copy\n",
      "  football_data[position_details[0][i]][missing_positions[k]]=avg\n",
      "<ipython-input-42-43c68a9ea818>:13: SettingWithCopyWarning: \n",
      "A value is trying to be set on a copy of a slice from a DataFrame\n",
      "\n",
      "See the caveats in the documentation: https://pandas.pydata.org/pandas-docs/stable/user_guide/indexing.html#returning-a-view-versus-a-copy\n",
      "  football_data[position_details[0][i]][missing_positions[k]]=avg\n",
      "<ipython-input-42-43c68a9ea818>:13: SettingWithCopyWarning: \n",
      "A value is trying to be set on a copy of a slice from a DataFrame\n",
      "\n",
      "See the caveats in the documentation: https://pandas.pydata.org/pandas-docs/stable/user_guide/indexing.html#returning-a-view-versus-a-copy\n",
      "  football_data[position_details[0][i]][missing_positions[k]]=avg\n",
      "<ipython-input-42-43c68a9ea818>:13: SettingWithCopyWarning: \n",
      "A value is trying to be set on a copy of a slice from a DataFrame\n",
      "\n",
      "See the caveats in the documentation: https://pandas.pydata.org/pandas-docs/stable/user_guide/indexing.html#returning-a-view-versus-a-copy\n",
      "  football_data[position_details[0][i]][missing_positions[k]]=avg\n",
      "<ipython-input-42-43c68a9ea818>:13: SettingWithCopyWarning: \n",
      "A value is trying to be set on a copy of a slice from a DataFrame\n",
      "\n",
      "See the caveats in the documentation: https://pandas.pydata.org/pandas-docs/stable/user_guide/indexing.html#returning-a-view-versus-a-copy\n",
      "  football_data[position_details[0][i]][missing_positions[k]]=avg\n",
      "<ipython-input-42-43c68a9ea818>:13: SettingWithCopyWarning: \n",
      "A value is trying to be set on a copy of a slice from a DataFrame\n",
      "\n",
      "See the caveats in the documentation: https://pandas.pydata.org/pandas-docs/stable/user_guide/indexing.html#returning-a-view-versus-a-copy\n",
      "  football_data[position_details[0][i]][missing_positions[k]]=avg\n",
      "<ipython-input-42-43c68a9ea818>:13: SettingWithCopyWarning: \n",
      "A value is trying to be set on a copy of a slice from a DataFrame\n",
      "\n",
      "See the caveats in the documentation: https://pandas.pydata.org/pandas-docs/stable/user_guide/indexing.html#returning-a-view-versus-a-copy\n",
      "  football_data[position_details[0][i]][missing_positions[k]]=avg\n",
      "<ipython-input-42-43c68a9ea818>:13: SettingWithCopyWarning: \n",
      "A value is trying to be set on a copy of a slice from a DataFrame\n",
      "\n",
      "See the caveats in the documentation: https://pandas.pydata.org/pandas-docs/stable/user_guide/indexing.html#returning-a-view-versus-a-copy\n",
      "  football_data[position_details[0][i]][missing_positions[k]]=avg\n",
      "<ipython-input-42-43c68a9ea818>:13: SettingWithCopyWarning: \n",
      "A value is trying to be set on a copy of a slice from a DataFrame\n",
      "\n",
      "See the caveats in the documentation: https://pandas.pydata.org/pandas-docs/stable/user_guide/indexing.html#returning-a-view-versus-a-copy\n",
      "  football_data[position_details[0][i]][missing_positions[k]]=avg\n",
      "<ipython-input-42-43c68a9ea818>:13: SettingWithCopyWarning: \n",
      "A value is trying to be set on a copy of a slice from a DataFrame\n",
      "\n",
      "See the caveats in the documentation: https://pandas.pydata.org/pandas-docs/stable/user_guide/indexing.html#returning-a-view-versus-a-copy\n",
      "  football_data[position_details[0][i]][missing_positions[k]]=avg\n"
     ]
    },
    {
     "name": "stderr",
     "output_type": "stream",
     "text": [
      "<ipython-input-42-43c68a9ea818>:13: SettingWithCopyWarning: \n",
      "A value is trying to be set on a copy of a slice from a DataFrame\n",
      "\n",
      "See the caveats in the documentation: https://pandas.pydata.org/pandas-docs/stable/user_guide/indexing.html#returning-a-view-versus-a-copy\n",
      "  football_data[position_details[0][i]][missing_positions[k]]=avg\n"
     ]
    }
   ],
   "source": [
    "# handling the missing values for columns falling under position_deatils\n",
    "sum=0\n",
    "counter=0\n",
    "missing_positions=[]\n",
    "for i in range(len(position_details[0])):\n",
    "    missing_positions=missing_value_matrix[missing_value_matrix[position_details[0]]==True].index.tolist()\n",
    "    for j in range(len(football_data)):\n",
    "        if missing_value_matrix[position_details[0][i]][j]==False:\n",
    "            sum=sum+football_data[position_details[0][i]][j]\n",
    "            counter=counter+1\n",
    "    avg=sum/counter\n",
    "    for k in range(len(missing_positions)):\n",
    "        football_data[position_details[0][i]][missing_positions[k]]=avg\n",
    "        missing_value_matrix[position_details[0][i]][missing_positions[k]]=False\n",
    "        \n",
    "    sum=0\n",
    "    counter=0\n",
    "    avg=0\n",
    "            \n",
    "    \n",
    "            \n",
    "            "
   ]
  },
  {
   "cell_type": "code",
   "execution_count": 57,
   "id": "3853b2f6",
   "metadata": {},
   "outputs": [],
   "source": [
    "# checking for other missing values in various columns sequentially\n",
    "columns_with_missing_values=[]\n",
    "for i in range(len(football_data.columns)):\n",
    "    tempstr=football_data.columns[i]\n",
    "    if len(missing_value_matrix[missing_value_matrix[tempstr]==True].index )>0 :\n",
    "        columns_with_missing_values.append(tempstr)\n",
    "    "
   ]
  },
  {
   "cell_type": "code",
   "execution_count": 58,
   "id": "31135425",
   "metadata": {},
   "outputs": [
    {
     "data": {
      "text/plain": [
       "['Club',\n",
       " 'Preferred Foot',\n",
       " 'International Reputation',\n",
       " 'Weak Foot',\n",
       " 'Skill Moves',\n",
       " 'Work Rate',\n",
       " 'Body Type',\n",
       " 'Real Face',\n",
       " 'Position',\n",
       " 'Jersey Number',\n",
       " 'Joined',\n",
       " 'Loaned From',\n",
       " 'Contract Valid Until',\n",
       " 'Weight',\n",
       " 'Crossing',\n",
       " 'Finishing',\n",
       " 'HeadingAccuracy',\n",
       " 'ShortPassing',\n",
       " 'Volleys',\n",
       " 'Dribbling',\n",
       " 'Curve',\n",
       " 'FKAccuracy',\n",
       " 'LongPassing',\n",
       " 'BallControl',\n",
       " 'Acceleration',\n",
       " 'SprintSpeed',\n",
       " 'Agility',\n",
       " 'Reactions',\n",
       " 'Balance',\n",
       " 'ShotPower',\n",
       " 'Jumping',\n",
       " 'Stamina',\n",
       " 'Strength',\n",
       " 'LongShots',\n",
       " 'Aggression',\n",
       " 'Interceptions',\n",
       " 'Positioning',\n",
       " 'Vision',\n",
       " 'Penalties',\n",
       " 'Composure',\n",
       " 'Marking',\n",
       " 'StandingTackle',\n",
       " 'SlidingTackle',\n",
       " 'GKDiving',\n",
       " 'GKHandling',\n",
       " 'GKKicking',\n",
       " 'GKPositioning',\n",
       " 'GKReflexes',\n",
       " 'Release Clause']"
      ]
     },
     "execution_count": 58,
     "metadata": {},
     "output_type": "execute_result"
    }
   ],
   "source": [
    "columns_with_missing_values # list of columns that still have missing values"
   ]
  },
  {
   "cell_type": "code",
   "execution_count": 85,
   "id": "34b58cb7",
   "metadata": {},
   "outputs": [
    {
     "name": "stderr",
     "output_type": "stream",
     "text": [
      "<ipython-input-85-5317e881c387>:6: SettingWithCopyWarning: \n",
      "A value is trying to be set on a copy of a slice from a DataFrame\n",
      "\n",
      "See the caveats in the documentation: https://pandas.pydata.org/pandas-docs/stable/user_guide/indexing.html#returning-a-view-versus-a-copy\n",
      "  football_data['Release Clause'][i]=float(football_data['Release Clause'][i].split('M')[0].split(\"€\")[1])\n",
      "<ipython-input-85-5317e881c387>:10: SettingWithCopyWarning: \n",
      "A value is trying to be set on a copy of a slice from a DataFrame\n",
      "\n",
      "See the caveats in the documentation: https://pandas.pydata.org/pandas-docs/stable/user_guide/indexing.html#returning-a-view-versus-a-copy\n",
      "  football_data['Release Clause'][i]=0\n",
      "<ipython-input-85-5317e881c387>:8: SettingWithCopyWarning: \n",
      "A value is trying to be set on a copy of a slice from a DataFrame\n",
      "\n",
      "See the caveats in the documentation: https://pandas.pydata.org/pandas-docs/stable/user_guide/indexing.html#returning-a-view-versus-a-copy\n",
      "  football_data['Release Clause'][i]=(float(football_data['Release Clause'][i].split(\"€\")[1][:-1])/1000.0)\n"
     ]
    }
   ],
   "source": [
    "# handing missing values for the release clause ( adding value =0 for missing atributes )\n",
    "#and converting the data to float from string \n",
    "for i in range(len(football_data)):\n",
    "    if missing_value_matrix['Release Clause'][i]==False:\n",
    "        if football_data['Release Clause'][i].split(\"€\")[1][-1]=='M':\n",
    "            football_data['Release Clause'][i]=float(football_data['Release Clause'][i].split('M')[0].split(\"€\")[1])\n",
    "        else:\n",
    "            football_data['Release Clause'][i]=(float(football_data['Release Clause'][i].split(\"€\")[1][:-1])/1000.0)\n",
    "    else:\n",
    "        football_data['Release Clause'][i]=0\n",
    "        missing_value_matrix['Release Clause'][i]=True\n",
    "        \n",
    "        \n",
    "    "
   ]
  },
  {
   "cell_type": "code",
   "execution_count": 115,
   "id": "847f84e4",
   "metadata": {},
   "outputs": [
    {
     "name": "stderr",
     "output_type": "stream",
     "text": [
      "<ipython-input-115-15725b62b711>:7: SettingWithCopyWarning: \n",
      "A value is trying to be set on a copy of a slice from a DataFrame\n",
      "\n",
      "See the caveats in the documentation: https://pandas.pydata.org/pandas-docs/stable/user_guide/indexing.html#returning-a-view-versus-a-copy\n",
      "  football_data[listx[j]][i]=float(football_data[listx[j]][i].split('M')[0].split(\"€\")[1])\n",
      "<ipython-input-115-15725b62b711>:10: SettingWithCopyWarning: \n",
      "A value is trying to be set on a copy of a slice from a DataFrame\n",
      "\n",
      "See the caveats in the documentation: https://pandas.pydata.org/pandas-docs/stable/user_guide/indexing.html#returning-a-view-versus-a-copy\n",
      "  football_data[listx[j]][i]=0\n",
      "<ipython-input-115-15725b62b711>:12: SettingWithCopyWarning: \n",
      "A value is trying to be set on a copy of a slice from a DataFrame\n",
      "\n",
      "See the caveats in the documentation: https://pandas.pydata.org/pandas-docs/stable/user_guide/indexing.html#returning-a-view-versus-a-copy\n",
      "  football_data[listx[j]][i]=(float(football_data[listx[j]][i].split(\"€\")[1][:-1])/1000.0)\n"
     ]
    }
   ],
   "source": [
    "# converting the column value and wage to float as well( as they don't have any missing values)\n",
    "listx=['Value','Wage']\n",
    "for j in range(len(listx)):\n",
    "    for i in range(len(football_data)):\n",
    "        if missing_value_matrix[listx[j]][i]==False:\n",
    "            if football_data[listx[j]][i].split(\"€\")[1][-1]=='M':\n",
    "                football_data[listx[j]][i]=float(football_data[listx[j]][i].split('M')[0].split(\"€\")[1])\n",
    "            else:\n",
    "                if football_data[listx[j]][i].split(\"€\")[1]=='0':\n",
    "                    football_data[listx[j]][i]=0\n",
    "                else:\n",
    "                    football_data[listx[j]][i]=(float(football_data[listx[j]][i].split(\"€\")[1][:-1])/1000.0)\n",
    "        else:\n",
    "            football_data[listx[j]][i]=0\n",
    "            missing_value_matrix[listx[j]][i]=True\n"
   ]
  },
  {
   "cell_type": "code",
   "execution_count": 118,
   "id": "87e22847",
   "metadata": {},
   "outputs": [],
   "source": [
    "import os\n",
    "os.chdir(\"F:\\MS IIITH\\course structure and syllabus\\Semester I\\Data Analytics\\Project\")"
   ]
  },
  {
   "cell_type": "code",
   "execution_count": 119,
   "id": "f55e8f6e",
   "metadata": {},
   "outputs": [],
   "source": [
    "# exporting the preprocessed dataset for using to solve the questions\n",
    "football_data.to_csv(\"reformed_datset.csv\")"
   ]
  }
 ],
 "metadata": {
  "kernelspec": {
   "display_name": "Python 3",
   "language": "python",
   "name": "python3"
  },
  "language_info": {
   "codemirror_mode": {
    "name": "ipython",
    "version": 3
   },
   "file_extension": ".py",
   "mimetype": "text/x-python",
   "name": "python",
   "nbconvert_exporter": "python",
   "pygments_lexer": "ipython3",
   "version": "3.8.8"
  }
 },
 "nbformat": 4,
 "nbformat_minor": 5
}
